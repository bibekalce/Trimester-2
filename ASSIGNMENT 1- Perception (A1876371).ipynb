{
 "cells": [
  {
   "cell_type": "code",
   "execution_count": 1,
   "id": "cb6891ea",
   "metadata": {},
   "outputs": [],
   "source": [
    "#importing alll the libraries\n",
    "import pandas as pd\n",
    "import numpy as np\n",
    "import math\n",
    "import matplotlib.pyplot as plt\n"
   ]
  },
  {
   "cell_type": "markdown",
   "id": "635faa69",
   "metadata": {},
   "source": [
    "# 1. DATA PREPARATION STAGE (FEATURE SCALING)"
   ]
  },
  {
   "cell_type": "code",
   "execution_count": 2,
   "id": "43102fad",
   "metadata": {},
   "outputs": [],
   "source": [
    "#FUNCTION TO LOAD CSV FILE AND RETURN DATA AS A DATAFRAME\n",
    "def load_data(filename):\n",
    "    data = pd.read_csv(filename)\n",
    "    return data"
   ]
  },
  {
   "cell_type": "code",
   "execution_count": 3,
   "id": "cfd59a1d",
   "metadata": {},
   "outputs": [
    {
     "data": {
      "image/png": "[encoded data removed]",
      "text/plain": [
       "<Figure size 432x288 with 1 Axes>"
      ]
     },
     "metadata": {
      "needs_background": "light"
     },
     "output_type": "display_data"
    }
   ],
   "source": [
    "#LOADING THE DATA\n",
    "data= load_data(\"diabetes.csv\")\n",
    "\n",
    "#visualize the data\n",
    "data.plot.hist();"
   ]
  },
  {
   "cell_type": "code",
   "execution_count": 4,
   "id": "2d511700",
   "metadata": {},
   "outputs": [
    {
     "data": {
      "text/html": [
       "<div>\n",
       "<style scoped>\n",
       "    .dataframe tbody tr th:only-of-type {\n",
       "        vertical-align: middle;\n",
       "    }\n",
       "\n",
       "    .dataframe tbody tr th {\n",
       "        vertical-align: top;\n",
       "    }\n",
       "\n",
       "    .dataframe thead th {\n",
       "        text-align: right;\n",
       "    }\n",
       "</style>\n",
       "<table border=\"1\" class=\"dataframe\">\n",
       "  <thead>\n",
       "    <tr style=\"text-align: right;\">\n",
       "      <th></th>\n",
       "      <th>Pregnancies</th>\n",
       "      <th>Glucose</th>\n",
       "      <th>BloodPressure</th>\n",
       "      <th>SkinThickness</th>\n",
       "      <th>Insulin</th>\n",
       "      <th>BMI</th>\n",
       "      <th>DiabetesPedigreeFunction</th>\n",
       "      <th>Age</th>\n",
       "      <th>Outcome</th>\n",
       "    </tr>\n",
       "  </thead>\n",
       "  <tbody>\n",
       "    <tr>\n",
       "      <th>count</th>\n",
       "      <td>768.000000</td>\n",
       "      <td>768.000000</td>\n",
       "      <td>768.000000</td>\n",
       "      <td>768.000000</td>\n",
       "      <td>768.000000</td>\n",
       "      <td>768.000000</td>\n",
       "      <td>768.000000</td>\n",
       "      <td>768.000000</td>\n",
       "      <td>768.000000</td>\n",
       "    </tr>\n",
       "    <tr>\n",
       "      <th>mean</th>\n",
       "      <td>3.845052</td>\n",
       "      <td>120.894531</td>\n",
       "      <td>69.105469</td>\n",
       "      <td>20.536458</td>\n",
       "      <td>79.799479</td>\n",
       "      <td>31.992578</td>\n",
       "      <td>0.471876</td>\n",
       "      <td>33.240885</td>\n",
       "      <td>0.348958</td>\n",
       "    </tr>\n",
       "    <tr>\n",
       "      <th>std</th>\n",
       "      <td>3.369578</td>\n",
       "      <td>31.972618</td>\n",
       "      <td>19.355807</td>\n",
       "      <td>15.952218</td>\n",
       "      <td>115.244002</td>\n",
       "      <td>7.884160</td>\n",
       "      <td>0.331329</td>\n",
       "      <td>11.760232</td>\n",
       "      <td>0.476951</td>\n",
       "    </tr>\n",
       "    <tr>\n",
       "      <th>min</th>\n",
       "      <td>0.000000</td>\n",
       "      <td>0.000000</td>\n",
       "      <td>0.000000</td>\n",
       "      <td>0.000000</td>\n",
       "      <td>0.000000</td>\n",
       "      <td>0.000000</td>\n",
       "      <td>0.078000</td>\n",
       "      <td>21.000000</td>\n",
       "      <td>0.000000</td>\n",
       "    </tr>\n",
       "    <tr>\n",
       "      <th>25%</th>\n",
       "      <td>1.000000</td>\n",
       "      <td>99.000000</td>\n",
       "      <td>62.000000</td>\n",
       "      <td>0.000000</td>\n",
       "      <td>0.000000</td>\n",
       "      <td>27.300000</td>\n",
       "      <td>0.243750</td>\n",
       "      <td>24.000000</td>\n",
       "      <td>0.000000</td>\n",
       "    </tr>\n",
       "    <tr>\n",
       "      <th>50%</th>\n",
       "      <td>3.000000</td>\n",
       "      <td>117.000000</td>\n",
       "      <td>72.000000</td>\n",
       "      <td>23.000000</td>\n",
       "      <td>30.500000</td>\n",
       "      <td>32.000000</td>\n",
       "      <td>0.372500</td>\n",
       "      <td>29.000000</td>\n",
       "      <td>0.000000</td>\n",
       "    </tr>\n",
       "    <tr>\n",
       "      <th>75%</th>\n",
       "      <td>6.000000</td>\n",
       "      <td>140.250000</td>\n",
       "      <td>80.000000</td>\n",
       "      <td>32.000000</td>\n",
       "      <td>127.250000</td>\n",
       "      <td>36.600000</td>\n",
       "      <td>0.626250</td>\n",
       "      <td>41.000000</td>\n",
       "      <td>1.000000</td>\n",
       "    </tr>\n",
       "    <tr>\n",
       "      <th>max</th>\n",
       "      <td>17.000000</td>\n",
       "      <td>199.000000</td>\n",
       "      <td>122.000000</td>\n",
       "      <td>99.000000</td>\n",
       "      <td>846.000000</td>\n",
       "      <td>67.100000</td>\n",
       "      <td>2.420000</td>\n",
       "      <td>81.000000</td>\n",
       "      <td>1.000000</td>\n",
       "    </tr>\n",
       "  </tbody>\n",
       "</table>\n",
       "</div>"
      ],
      "text/plain": [
       "       Pregnancies     Glucose  BloodPressure  SkinThickness     Insulin  \\\n",
       "count   768.000000  768.000000     768.000000     768.000000  768.000000   \n",
       "mean      3.845052  120.894531      69.105469      20.536458   79.799479   \n",
       "std       3.369578   31.972618      19.355807      15.952218  115.244002   \n",
       "min       0.000000    0.000000       0.000000       0.000000    0.000000   \n",
       "25%       1.000000   99.000000      62.000000       0.000000    0.000000   \n",
       "50%       3.000000  117.000000      72.000000      23.000000   30.500000   \n",
       "75%       6.000000  140.250000      80.000000      32.000000  127.250000   \n",
       "max      17.000000  199.000000     122.000000      99.000000  846.000000   \n",
       "\n",
       "              BMI  DiabetesPedigreeFunction         Age     Outcome  \n",
       "count  768.000000                768.000000  768.000000  768.000000  \n",
       "mean    31.992578                  0.471876   33.240885    0.348958  \n",
       "std      7.884160                  0.331329   11.760232    0.476951  \n",
       "min      0.000000                  0.078000   21.000000    0.000000  \n",
       "25%     27.300000                  0.243750   24.000000    0.000000  \n",
       "50%     32.000000                  0.372500   29.000000    0.000000  \n",
       "75%     36.600000                  0.626250   41.000000    1.000000  \n",
       "max     67.100000                  2.420000   81.000000    1.000000  "
      ]
     },
     "execution_count": 4,
     "metadata": {},
     "output_type": "execute_result"
    }
   ],
   "source": [
    "#CHARACTERISTICS OF THE DATA\n",
    "data.describe()"
   ]
  },
  {
   "cell_type": "code",
   "execution_count": 5,
   "id": "263f464c",
   "metadata": {},
   "outputs": [
    {
     "name": "stdout",
     "output_type": "stream",
     "text": [
      "The shape of the dataset is (768, 9) and the features are ['Pregnancies', 'Glucose', 'BloodPressure', 'SkinThickness', 'Insulin', 'BMI', 'DiabetesPedigreeFunction', 'Age', 'Outcome']\n"
     ]
    }
   ],
   "source": [
    "# EXTRACTING FEATURES NAME AND SHAPE OF THE DATAFRAME\n",
    "features = data.keys().to_list()\n",
    "total,c = data.shape\n",
    "\n",
    "print(f\"The shape of the dataset is {total,c} and the features are {features}\")"
   ]
  },
  {
   "cell_type": "code",
   "execution_count": 6,
   "id": "6dec61e4",
   "metadata": {},
   "outputs": [],
   "source": [
    "# SCALING THE OUTCOME TO {-1,+1} AND STANDARDIZE THE REMAINING FEATURES\n",
    "# +1 = PATIENT IS DIABETIC\n",
    "# -1 = PATIENT DOESN'T HAVE DIABETIES\n",
    "\n",
    "#SPLITING THE DATASET INTO TRAINING AND TESTING DATA\n",
    "def split_and_standardise_data(data,features,ratio = 0.8):\n",
    "    r,c = data.shape\n",
    "    ratio = math.floor(r*ratio)\n",
    "    \n",
    "    #STANDARDIZE THE FEATURES EXCEPT THE OUTCOME\n",
    "    for i in features[:-1]:\n",
    "        # FINDING THE STANDARD DEVIATION AND MEAN OF THE TRAINING DATA\n",
    "        std =data[i][:ratio].std()\n",
    "        mean = data[i][:ratio].mean()\n",
    "        #USING THE MEAN AND STANDARD DEVIATION OF THE TRAINING DATA TO STANDARDIZE THE WHOLE DATASET EXCEPT THE OUTCOME\n",
    "        data[i]=(data[i]-mean)/std\n",
    "        \n",
    "    #SCALE THE OUTCOME TO {-1,+1}\n",
    "    data.loc[(data[features[-1]] ==0)] = -1\n",
    "    \n",
    "    #SPLIT THE DATASET INTO TRAINING AND TESTING DATA\n",
    "    training_data = data.iloc[:ratio].to_numpy()\n",
    "    testing_data = data.iloc[ratio:].to_numpy()\n",
    "    \n",
    "    #DATA DISTRIBUTION VISUALIZATION\n",
    "    total_positive_count = np.sum(data[features[-1]]==1)\n",
    "    train_positive_count = np.sum(data.iloc[:ratio][features[-1]]==1)\n",
    "    test_positive_count = np.sum(data.iloc[ratio:][features[-1]]==1)\n",
    "    \n",
    "    return training_data,testing_data,total_positive_count,train_positive_count,test_positive_count\n"
   ]
  },
  {
   "cell_type": "code",
   "execution_count": 7,
   "id": "0365405b",
   "metadata": {},
   "outputs": [],
   "source": [
    "# SIGN FUNCTION : ACTIVATION FUNCTION TO PREDICT THE OUTCOME\n",
    "def sign(x):\n",
    "    return 1 if x>0 else -1\n"
   ]
  },
  {
   "cell_type": "markdown",
   "id": "fe2db604",
   "metadata": {},
   "source": [
    "# 2. TRAINING AND TESTING THE MODEL"
   ]
  },
  {
   "cell_type": "code",
   "execution_count": 8,
   "id": "524ae964",
   "metadata": {},
   "outputs": [],
   "source": [
    "\n",
    "# TRAINS THE MODEL: WEIGHT AND BIAS AND RETURNS IT\n",
    "def train_model(t_data,learning_rate=0.001,bias =0):\n",
    "    \n",
    "    #INITIALIZING THE RANDOM VALUE FOR WEIGHT CORRESPONDING TO EACH INDPENDENT FEATURE\n",
    "    wt_crit = np.random.RandomState(seed=123)\n",
    "    wt = wt_crit.uniform(low=0.0, high=1.0, size=(1, 8))\n",
    "    bias = wt_crit.uniform(0, 1)\n",
    "    iteri,c =t_data.shape \n",
    "    \n",
    "    #ITERATING OVER THE TRAINING DATA TO UPDATE OR TRAIN THE WEIGHT AND BIAS\n",
    "    for i in range(iteri):\n",
    "        di= np.array(t_data[i,:8])\n",
    "        score = np.matmul(wt,di)+bias\n",
    "        pred = sign(score)\n",
    "        exp = t_data[i,8]\n",
    "        #UPDATING THE WEIGHT AND BIAS\n",
    "        wt = wt+ (exp-pred)*di*learning_rate\n",
    "        bias = bias + (exp-pred)*learning_rate\n",
    "        \n",
    "    return wt,bias"
   ]
  },
  {
   "cell_type": "code",
   "execution_count": 9,
   "id": "4f65ba50",
   "metadata": {},
   "outputs": [],
   "source": [
    "# TESTS THE ACCURACY OF THE ACQUIRED FUNCTION AND RETURNS THE ACCURACY IN %\n",
    "def test_model(t_data,wt,bias):\n",
    "    iteri,c =t_data.shape \n",
    "    \n",
    "    #VARIABLE TO HOLD TOTAL NUMBER OF RIGHT PREDICTION\n",
    "    acc=0\n",
    "    \n",
    "    #ITERATING OVER THE TESTING DATA\n",
    "    for i in range(iteri):\n",
    "        datai= np.array(t_data[i,:8])\n",
    "        score= np.matmul(wt,datai)+bias\n",
    "        \n",
    "        #USING THE SIGN FUNCTION TO PREDICT THE OUTCOME USING THE SCORE\n",
    "        pred = sign(score)\n",
    "        exp = t_data[i,8]\n",
    "        \n",
    "        #UPDATING THE NUMBER OF TOTAL RIGHT PREDICTION\n",
    "        if pred==exp:\n",
    "            acc+=1\n",
    "    return round(100*acc/iteri,5)"
   ]
  },
  {
   "cell_type": "code",
   "execution_count": 10,
   "id": "8fa5270c",
   "metadata": {},
   "outputs": [],
   "source": [
    "# PREDICT THE OUTCOME USING ON THE INPUT FEATURES AND LEARNED WEIGHT AND BIAS\n",
    "# RETURNS THE PREDICTION {+1,-1} USING THE SIGN FUNCTION \n",
    "def predict(data,wt,bias):\n",
    "    datai= np.array(data[i,:8])\n",
    "    score = np.matmul(wt,datai)+bias\n",
    "    pred = sign(score)\n",
    "    return pred"
   ]
  },
  {
   "cell_type": "markdown",
   "id": "107487c3",
   "metadata": {},
   "source": [
    "## EXPERIMENT 1\n",
    "### DATA RATIO = 8:2 :: Training data: Testing data"
   ]
  },
  {
   "cell_type": "code",
   "execution_count": 11,
   "id": "fc755b97",
   "metadata": {},
   "outputs": [],
   "source": [
    "# LIST OF LEASRNING_RATE FOR COMPARING THE ACCURACY\n",
    "learning_rate_list=[0.0001,0.001,0.01,0.1]\n",
    "\n",
    "#LIST TO HOLD THE ACCURACY FOR THE CORRESPONDING LEARNING_RATE FOR EXPERIMENT 1\n",
    "accuracy_list_exp1=[]"
   ]
  },
  {
   "cell_type": "code",
   "execution_count": 12,
   "id": "a0764817",
   "metadata": {},
   "outputs": [
    {
     "name": "stdout",
     "output_type": "stream",
     "text": [
      "Size of training data(614, 9) and testing data (154, 9)\n",
      "\n"
     ]
    }
   ],
   "source": [
    "# TRAINING AND TESTING DATA DIVIDED IN THE RATIO OF 8:2\n",
    "training_data_exp1, testing_data_exp1,total_positive_count,train_positive_count_exp1,test_positive_count_exp1 = split_and_standardise_data(data,features,ratio=0.8)\n",
    "print(f\"Size of training data{training_data_exp1.shape} and testing data {testing_data_exp1.shape}\\n\")\n",
    "\n",
    "# VARIABLE TO HOLD EXPECTED POSITIVE OUTCOME IN TRAINING AND TESTING DATA FOR VISUALIZATION\n",
    "training_data_size_exp1= training_data_exp1.shape[0]\n",
    "testing_data_size_exp1= testing_data_exp1.shape[0]"
   ]
  },
  {
   "cell_type": "code",
   "execution_count": 13,
   "id": "baf6f699",
   "metadata": {},
   "outputs": [
    {
     "name": "stdout",
     "output_type": "stream",
     "text": [
      "Accuracy with the learning rate 0.0001 is 92.85714\n",
      "\n",
      "Accuracy with the learning rate 0.001 is 94.80519\n",
      "\n",
      "Accuracy with the learning rate 0.01 is 97.4026\n",
      "\n",
      "Accuracy with the learning rate 0.1 is 100.0\n",
      "\n"
     ]
    }
   ],
   "source": [
    "#training the model\n",
    "for l_r in learning_rate_list:\n",
    "    wt,bias = train_model(training_data_exp1,learning_rate=l_r)\n",
    "#     print(f\"weight={wt}\\nbias={bias}\")\n",
    "    #testing the model for accuracy\n",
    "    accuracy_list_exp1.append(test_model(testing_data_exp1,wt,bias))\n",
    "    print(f\"Accuracy with the learning rate {l_r} is {accuracy_list_exp1[-1]}\\n\")"
   ]
  },
  {
   "cell_type": "markdown",
   "id": "7ef78fbe",
   "metadata": {},
   "source": [
    "# EXPERIMENT 2\n",
    "### DATA RATIO = 7:3 :: Training data: Testing data"
   ]
  },
  {
   "cell_type": "code",
   "execution_count": 14,
   "id": "056ef40e",
   "metadata": {},
   "outputs": [],
   "source": [
    "#LIST TO HOLD THE ACCURACY FOR THE CORRESPONDING LEARNING_RATE FOR EXPERIMENT 2\n",
    "accuracy_list_exp2=[]"
   ]
  },
  {
   "cell_type": "code",
   "execution_count": 15,
   "id": "69a26763",
   "metadata": {},
   "outputs": [
    {
     "name": "stdout",
     "output_type": "stream",
     "text": [
      "Size of training data(537, 9) and testing data (231, 9)\n",
      "\n"
     ]
    }
   ],
   "source": [
    "\n",
    "# TRAINING AND TESTING DATA DIVIDED IN THE RATIO OF 8:2\n",
    "training_data_exp2, testing_data_exp2,total_positive_count,train_positive_count_exp2,test_positive_count_exp2 = split_and_standardise_data(data,features,ratio=0.7)\n",
    "print(f\"Size of training data{training_data_exp2.shape} and testing data {testing_data_exp2.shape}\\n\")\n",
    "\n",
    "# VARIABLE TO HOLD EXPECTED POSITIVE OUTCOME IN TRAINING AND TESTING DATA FOR VISUALIZATION\n",
    "training_data_size_exp2= training_data_exp2.shape[0]\n",
    "testing_data_size_exp2= testing_data_exp2.shape[0]\n"
   ]
  },
  {
   "cell_type": "code",
   "execution_count": 16,
   "id": "f8caccf9",
   "metadata": {},
   "outputs": [
    {
     "name": "stdout",
     "output_type": "stream",
     "text": [
      "Accuracy with the learning rate 0.0001 is 99.1342%\n",
      "\n",
      "Accuracy with the learning rate 0.001 is 99.1342%\n",
      "\n",
      "Accuracy with the learning rate 0.01 is 99.1342%\n",
      "\n",
      "Accuracy with the learning rate 0.1 is 99.5671%\n",
      "\n"
     ]
    }
   ],
   "source": [
    "#training the model\n",
    "for l_r in learning_rate_list:\n",
    "    wt,bias = train_model(training_data_exp2,learning_rate=l_r)\n",
    "#     print(f\"weight={wt}\\nbias={bias}\")\n",
    "\n",
    "    # CALCULATING THE MODEL'S ACCURACY WITH THE TESTINGD DATA\n",
    "    accuracy_list_exp2.append(test_model(testing_data_exp2,wt,bias))\n",
    "    print(f\"Accuracy with the learning rate {l_r} is {accuracy_list_exp2[-1]}%\\n\")"
   ]
  },
  {
   "cell_type": "markdown",
   "id": "0c847f5d",
   "metadata": {},
   "source": [
    "# USING THE SKLEARN TO FIND A GENERAL FUNCTION BASED ON THE SAME DATASET TO COMPARE THE ACCURACY WITH OUR MODEL\n"
   ]
  },
  {
   "cell_type": "code",
   "execution_count": 17,
   "id": "586c247b",
   "metadata": {},
   "outputs": [],
   "source": [
    "# using sklearn perception method implementation to compare our result\n",
    "from sklearn.linear_model import Perceptron\n",
    "\n",
    "# LIST TO HOLD THE ACCURACY OF THE SKLEARN FOR DIFFERENT LEARNING_RATE\n",
    "accuracy_list_sklearn_exp1=[]\n",
    "\n",
    "# EXPERIMENT 1 - SCENARIO\n",
    "for l_r in learning_rate_list:\n",
    "    clf = Perceptron(tol=l_r, random_state=0)\n",
    "    clf.fit(training_data_exp1[:,:8], training_data_exp1[:,8])\n",
    "    Perceptron()\n",
    "    accuracy_list_sklearn_exp1.append(round(clf.score(testing_data_exp1[:,:8], testing_data_exp1[:,8])*100,5))\n",
    "\n",
    "# LIST TO HOLD THE ACCURACY OF THE SKLEARN FOR DIFFERENT LEARNING_RATE\n",
    "accuracy_list_sklearn_exp2=[]\n",
    "\n",
    "#EXPERIMENT 2- SCENARIO\n",
    "for l_r in learning_rate_list:\n",
    "    clf = Perceptron(tol=l_r, random_state=0)\n",
    "    clf.fit(training_data_exp2[:,:8], training_data_exp2[:,8])\n",
    "    Perceptron()\n",
    "    accuracy_list_sklearn_exp2.append(round(clf.score(testing_data_exp2[:,:8], testing_data_exp2[:,8])*100,5))\n",
    "    "
   ]
  },
  {
   "cell_type": "markdown",
   "id": "f6da8ae8",
   "metadata": {},
   "source": [
    "  ## <h1><center>VISUALIZATION OF THE ACCURACY OF THE EXPERIMENT 1 & 2 FOR DIFFERENT LEARNING_RATE</center></h1>\n",
    "  "
   ]
  },
  {
   "cell_type": "code",
   "execution_count": 18,
   "id": "c96ff372",
   "metadata": {},
   "outputs": [
    {
     "name": "stdout",
     "output_type": "stream",
     "text": [
      "learning_rate_list \t\t[0.0001, 0.001, 0.01, 0.1]\n",
      "\n",
      "\t\tExperiment 1 Accuracy(%)\n",
      "\n",
      "accuracy_list_exp1\t\t[92.85714, 94.80519, 97.4026, 100.0]\n",
      "accuracy_list_sklearn_exp1\t[98.7013, 98.7013, 98.7013, 98.7013]\n",
      "\n",
      "\t\tExperiment 2 Accuracy(%)\n",
      "\n",
      "accuracy_list_exp2\t\t[99.1342, 99.1342, 99.1342, 99.5671]\n",
      "accuracy_list_sklearn_exp2\t[99.5671, 99.5671, 99.5671, 99.5671]\n"
     ]
    }
   ],
   "source": [
    "print(f\"learning_rate_list \\t\\t{learning_rate_list}\\n\")\n",
    "\n",
    "print(\"\\t\\tExperiment 1 Accuracy(%)\\n\")\n",
    "print(f\"accuracy_list_exp1\\t\\t{accuracy_list_exp1}\")\n",
    "print(f\"accuracy_list_sklearn_exp1\\t{accuracy_list_sklearn_exp1}\\n\")\n",
    "\n",
    "print(\"\\t\\tExperiment 2 Accuracy(%)\\n\")\n",
    "print(f\"accuracy_list_exp2\\t\\t{accuracy_list_exp2}\")\n",
    "print(f\"accuracy_list_sklearn_exp2\\t{accuracy_list_sklearn_exp2}\")"
   ]
  },
  {
   "cell_type": "code",
   "execution_count": 19,
   "id": "bfc825bb",
   "metadata": {},
   "outputs": [
    {
     "data": {
      "image/png": "[encoded data removed]",
      "text/plain": [
       "<Figure size 432x288 with 1 Axes>"
      ]
     },
     "metadata": {
      "needs_background": "light"
     },
     "output_type": "display_data"
    }
   ],
   "source": [
    "#PLOTING A LINE GRAPH TO VISUALIZE THE ACCURACY FOR DIFFERENT SITUATION\n",
    "fig, ax = plt.subplots()\n",
    "\n",
    "# FIGURE SIZE FOR THE PLOT\n",
    "plt.rcParams[\"figure.figsize\"] = (20,12)\n",
    "\n",
    "# PLOTTING THE ACCURACY FOR THE CORRESPONDING LEARNING RATE FOR OUR MODEL EXPERIMENT 1 AND 2 \n",
    "ax.semilogx(learning_rate_list, accuracy_list_exp1, label = \"PERCEPTRON EXP1 - DATA RATIO: 8:2\")\n",
    "ax.semilogx(learning_rate_list, accuracy_list_exp2, label = \"PERCEPTRON EXP2 - DATA RATIO: 7:3\")\n",
    "\n",
    "# PLOTTING THE ACCURACY FOR THE CORRESPONDING LEARNING RATE FOR SKLEARN EXPERIMENT 1 AND 2 \n",
    "ax.semilogx(learning_rate_list, accuracy_list_sklearn_exp1, label = \"SKLEARN EXP1 - DATA RATIO: 8:2\")\n",
    "ax.semilogx(learning_rate_list, accuracy_list_sklearn_exp2, label = \"SKLEARN EXP2 - DATA RATIO: 7:3\")\n",
    "#plt.figure(figsize=(8, 6), dpi=80)\n",
    "ax.grid()\n",
    "\n",
    "#plt.xticks(np.arange(0.0001, 0.1, 0.005))\n",
    "plt.yticks(np.arange(89, 100.5, 0.5))\n",
    "plt.xlabel(\"Learning rate\")\n",
    "plt.ylabel(\"Acuuracy(%)\")\n",
    "plt.legend()\n",
    "plt.show()"
   ]
  },
  {
   "cell_type": "markdown",
   "id": "476be0f2",
   "metadata": {},
   "source": [
    "## <h1><center> Visualization of the Training and Testing data distribution after splitting</center></h1>"
   ]
  },
  {
   "cell_type": "code",
   "execution_count": 20,
   "id": "79060487",
   "metadata": {},
   "outputs": [
    {
     "data": {
      "text/plain": [
       "((213, -401, 189, -348), (55, -99, 79, -152))"
      ]
     },
     "execution_count": 20,
     "metadata": {},
     "output_type": "execute_result"
    }
   ],
   "source": [
    "N = 4                 # NUMBER OF DATA TO PLOT\n",
    "ind = np.arange(N)    # the x locations for the DATA\n",
    "width = 0.35          # WIDTH OF EACH BAR\n",
    "\n",
    "#VARIABLE TO HOLD POSITIVE AND NEGATIVE OUTCOME IN THE TRAINING AND TESTING DATASET TO PLOT BAR GRAPH\n",
    "Training = (train_positive_count_exp1,-(training_data_size_exp1-train_positive_count_exp1),\\\n",
    "train_positive_count_exp2,-(training_data_size_exp2-train_positive_count_exp2))\n",
    "\n",
    "Testing = (test_positive_count_exp1,-(testing_data_size_exp1-test_positive_count_exp1),\\\n",
    "test_positive_count_exp2,-(testing_data_size_exp2-test_positive_count_exp2))\n",
    "     \n",
    "#====================================================================================================================\n",
    "Training,Testing\n"
   ]
  },
  {
   "cell_type": "code",
   "execution_count": 21,
   "id": "ec50897c",
   "metadata": {},
   "outputs": [
    {
     "data": {
      "image/png": "[encoded data removed]",
      "text/plain": [
       "<Figure size 1440x864 with 1 Axes>"
      ]
     },
     "metadata": {
      "needs_background": "light"
     },
     "output_type": "display_data"
    }
   ],
   "source": [
    "fig, ax = plt.subplots()\n",
    "\n",
    "p1 = ax.bar(ind, Training, width, label='Training')\n",
    "p2 = ax.bar(ind, Testing, width,bottom=Training, label='Testing')\n",
    "\n",
    "ax.axhline(0, color='grey', linewidth=0.8)\n",
    "ax.set_ylabel('Frequency')\n",
    "ax.set_title('Data distribution in training and testing data')\n",
    "ax.set_xticks(ind, labels=[\"Positive_Outcome_Exp1\",\"Negative_Outcome_Exp1\",\"Positive_Outcome_Exp2\",\"Negative_Outcome_Exp2\"])\n",
    "ax.legend()\n",
    "\n",
    "# Label with label_type 'center' instead of the default 'edge'\n",
    "ax.bar_label(p1, label_type='center')\n",
    "ax.bar_label(p2, label_type='center')\n",
    "ax.bar_label(p2)\n",
    "\n",
    "plt.show()"
   ]
  }
 ],
 "metadata": {
  "kernelspec": {
   "display_name": "Python 3 (ipykernel)",
   "language": "python",
   "name": "python3"
  },
  "language_info": {
   "codemirror_mode": {
    "name": "ipython",
    "version": 3
   },
   "file_extension": ".py",
   "mimetype": "text/x-python",
   "name": "python",
   "nbconvert_exporter": "python",
   "pygments_lexer": "ipython3",
   "version": "3.9.12"
  }
 },
 "nbformat": 4,
 "nbformat_minor": 5
}
